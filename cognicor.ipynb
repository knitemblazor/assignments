{
  "nbformat": 4,
  "nbformat_minor": 0,
  "metadata": {
    "colab": {
      "name": "cognicor.ipynb",
      "provenance": [],
      "include_colab_link": true
    },
    "kernelspec": {
      "name": "python3",
      "display_name": "Python 3"
    }
  },
  "cells": [
    {
      "cell_type": "markdown",
      "metadata": {
        "id": "view-in-github",
        "colab_type": "text"
      },
      "source": [
        "<a href=\"https://colab.research.google.com/github/knitemblazor/assignments/blob/master/cognicor.ipynb\" target=\"_parent\"><img src=\"https://colab.research.google.com/assets/colab-badge.svg\" alt=\"Open In Colab\"/></a>"
      ]
    },
    {
      "cell_type": "code",
      "metadata": {
        "id": "ml4by9XCaiOK",
        "colab_type": "code",
        "colab": {}
      },
      "source": [
        "a=[\"Driving on Indian roads is an adventure, and we’re happy to go the distance with you. And the best part? You can become a part of the Bajaj Allianz  Motor Insurance family in a mere 3 minutes.Whether it’s car insurance or a two   wheeler insurance cover that you’re looking for, we’ve got you covered.\",\n",
        "\"When an illness knocks on your door, our health insurance plan answers. With Bajaj Allianz by your side, you do not have to think twice before going in for the best medical care.\",\n",
        "\"Struck by wanderlust? Let Bajaj Allianz be your co-pilot! Our travel insurance plans lets you pack your bags and explore the world, carefree.\",\n",
        "\"Secure your abode with Bajaj Allianz and be assured that your precious belongings are safe. Our home insurance includes a cover not only for your home but also its contents!\",\n",
        "\"Spending more and more time in the digital world? Cyber insurance from Bajaj Allianz protects you against every malicious bit and byte.\",\n",
        "\"From SMEs to multinationals, Bajaj Allianz delivers commercial insurance solutions that make enterprises secure, confident, and successful.\",\n",
        "\"Get your wheels on the road without worry. Your vehicle takes you places, and a lot goes into buying it, so we understand how precious it is to you. While you may have also bought accessories to make it more comfortable and aesthetic, what truly makes it complete is a motor insurance policy.It’s one of the most important documents for your vehicle, as it’s mandatory in India and protects you against legal issues and financial loss. Let us help protect what you care about. Our package policies will financially guard you and your vehicle against physical damage, bodily injury/death and cover against third-party liability.Like millions of vehicle owners across India, you can trust us with your ride. Let us take care of major claims that can otherwise be very expensive, and retain your freedom to invest towards other goals.Words not backed by actions mean nothing, we know. Ours, however, are backed by advanced claims servicing capability and a fast settlement record.  Secure your smiles per mile and peace of mind by protecting your vehicle with Bajaj Allianz motor insurance. Our commitment to excellent service has won us the Best General Insurance Company Award at the Sixth World Quality Congress 2018.Car insurance or Two wheeler - Long Term Insurance by Bajaj Allianz provides unmatched care and protection for your motoring experience.\"]"
      ],
      "execution_count": 0,
      "outputs": []
    },
    {
      "cell_type": "code",
      "metadata": {
        "id": "ho-pK96herYV",
        "colab_type": "code",
        "colab": {
          "base_uri": "https://localhost:8080/",
          "height": 163
        },
        "outputId": "a16f3e59-f344-46a0-cd07-4e6b8ef8cb9e"
      },
      "source": [
        "#puntuation marks removal\n",
        "d =[]\n",
        "elim=['1','2','3','4','5','6','7','8','9','0',':',';','<','/',',','-','\\\\','#','\"',\"?\",\"!\",\".\",\"’\"]\n",
        "for i in a:\n",
        "    sent = \" \".join(\"\".join([\" \" if ch in elim else ch for ch in i.lower()]).split())\n",
        "    d.append(sent)\n",
        "d\n"
      ],
      "execution_count": 22,
      "outputs": [
        {
          "output_type": "execute_result",
          "data": {
            "text/plain": [
              "['driving on indian roads is an adventure and we re happy to go the distance with you and the best part you can become a part of the bajaj allianz motor insurance family in a mere minutes whether it s car insurance or a two wheeler insurance cover that you re looking for we ve got you covered',\n",
              " 'when an illness knocks on your door our health insurance plan answers with bajaj allianz by your side you do not have to think twice before going in for the best medical care',\n",
              " 'struck by wanderlust let bajaj allianz be your co pilot our travel insurance plans lets you pack your bags and explore the world carefree',\n",
              " 'secure your abode with bajaj allianz and be assured that your precious belongings are safe our home insurance includes a cover not only for your home but also its contents',\n",
              " 'spending more and more time in the digital world cyber insurance from bajaj allianz protects you against every malicious bit and byte',\n",
              " 'from smes to multinationals bajaj allianz delivers commercial insurance solutions that make enterprises secure confident and successful',\n",
              " 'get your wheels on the road without worry your vehicle takes you places and a lot goes into buying it so we understand how precious it is to you while you may have also bought accessories to make it more comfortable and aesthetic what truly makes it complete is a motor insurance policy it s one of the most important documents for your vehicle as it s mandatory in india and protects you against legal issues and financial loss let us help protect what you care about our package policies will financially guard you and your vehicle against physical damage bodily injury death and cover against third party liability like millions of vehicle owners across india you can trust us with your ride let us take care of major claims that can otherwise be very expensive and retain your freedom to invest towards other goals words not backed by actions mean nothing we know ours however are backed by advanced claims servicing capability and a fast settlement record secure your smiles per mile and peace of mind by protecting your vehicle with bajaj allianz motor insurance our commitment to excellent service has won us the best general insurance company award at the sixth world quality congress car insurance or two wheeler long term insurance by bajaj allianz provides unmatched care and protection for your motoring experience']"
            ]
          },
          "metadata": {
            "tags": []
          },
          "execution_count": 22
        }
      ]
    },
    {
      "cell_type": "code",
      "metadata": {
        "id": "X8XA33WrlLFE",
        "colab_type": "code",
        "colab": {}
      },
      "source": [
        "from gensim.models import Word2Vec\n",
        "import gensim\n",
        "from gensim.parsing.preprocessing import remove_stopwords\n",
        "for i,j in enumerate(d):\n",
        "  d[i]=remove_stopwords(j)"
      ],
      "execution_count": 0,
      "outputs": []
    },
    {
      "cell_type": "code",
      "metadata": {
        "id": "g3lXxhzZduaV",
        "colab_type": "code",
        "colab": {
          "base_uri": "https://localhost:8080/",
          "height": 1000
        },
        "outputId": "c69a6af9-bbee-4abf-b623-0649350d53b3"
      },
      "source": [
        "fin=[]\n",
        "for i,j in enumerate(d):\n",
        "    inter=[]\n",
        "    for k in j.split():\n",
        "      inter.append(k.lower())\n",
        "    fin.append(inter)\n",
        "fin"
      ],
      "execution_count": 24,
      "outputs": [
        {
          "output_type": "execute_result",
          "data": {
            "text/plain": [
              "[['driving',\n",
              "  'indian',\n",
              "  'roads',\n",
              "  'adventure',\n",
              "  'happy',\n",
              "  'distance',\n",
              "  'best',\n",
              "  'bajaj',\n",
              "  'allianz',\n",
              "  'motor',\n",
              "  'insurance',\n",
              "  'family',\n",
              "  'mere',\n",
              "  'minutes',\n",
              "  's',\n",
              "  'car',\n",
              "  'insurance',\n",
              "  'wheeler',\n",
              "  'insurance',\n",
              "  'cover',\n",
              "  'looking',\n",
              "  've',\n",
              "  'got',\n",
              "  'covered'],\n",
              " ['illness',\n",
              "  'knocks',\n",
              "  'door',\n",
              "  'health',\n",
              "  'insurance',\n",
              "  'plan',\n",
              "  'answers',\n",
              "  'bajaj',\n",
              "  'allianz',\n",
              "  'think',\n",
              "  'twice',\n",
              "  'going',\n",
              "  'best',\n",
              "  'medical',\n",
              "  'care'],\n",
              " ['struck',\n",
              "  'wanderlust',\n",
              "  'let',\n",
              "  'bajaj',\n",
              "  'allianz',\n",
              "  'pilot',\n",
              "  'travel',\n",
              "  'insurance',\n",
              "  'plans',\n",
              "  'lets',\n",
              "  'pack',\n",
              "  'bags',\n",
              "  'explore',\n",
              "  'world',\n",
              "  'carefree'],\n",
              " ['secure',\n",
              "  'abode',\n",
              "  'bajaj',\n",
              "  'allianz',\n",
              "  'assured',\n",
              "  'precious',\n",
              "  'belongings',\n",
              "  'safe',\n",
              "  'home',\n",
              "  'insurance',\n",
              "  'includes',\n",
              "  'cover',\n",
              "  'home',\n",
              "  'contents'],\n",
              " ['spending',\n",
              "  'time',\n",
              "  'digital',\n",
              "  'world',\n",
              "  'cyber',\n",
              "  'insurance',\n",
              "  'bajaj',\n",
              "  'allianz',\n",
              "  'protects',\n",
              "  'malicious',\n",
              "  'bit',\n",
              "  'byte'],\n",
              " ['smes',\n",
              "  'multinationals',\n",
              "  'bajaj',\n",
              "  'allianz',\n",
              "  'delivers',\n",
              "  'commercial',\n",
              "  'insurance',\n",
              "  'solutions',\n",
              "  'enterprises',\n",
              "  'secure',\n",
              "  'confident',\n",
              "  'successful'],\n",
              " ['wheels',\n",
              "  'road',\n",
              "  'worry',\n",
              "  'vehicle',\n",
              "  'takes',\n",
              "  'places',\n",
              "  'lot',\n",
              "  'goes',\n",
              "  'buying',\n",
              "  'understand',\n",
              "  'precious',\n",
              "  'bought',\n",
              "  'accessories',\n",
              "  'comfortable',\n",
              "  'aesthetic',\n",
              "  'truly',\n",
              "  'makes',\n",
              "  'complete',\n",
              "  'motor',\n",
              "  'insurance',\n",
              "  'policy',\n",
              "  's',\n",
              "  'important',\n",
              "  'documents',\n",
              "  'vehicle',\n",
              "  's',\n",
              "  'mandatory',\n",
              "  'india',\n",
              "  'protects',\n",
              "  'legal',\n",
              "  'issues',\n",
              "  'financial',\n",
              "  'loss',\n",
              "  'let',\n",
              "  'help',\n",
              "  'protect',\n",
              "  'care',\n",
              "  'package',\n",
              "  'policies',\n",
              "  'financially',\n",
              "  'guard',\n",
              "  'vehicle',\n",
              "  'physical',\n",
              "  'damage',\n",
              "  'bodily',\n",
              "  'injury',\n",
              "  'death',\n",
              "  'cover',\n",
              "  'party',\n",
              "  'liability',\n",
              "  'like',\n",
              "  'millions',\n",
              "  'vehicle',\n",
              "  'owners',\n",
              "  'india',\n",
              "  'trust',\n",
              "  'ride',\n",
              "  'let',\n",
              "  'care',\n",
              "  'major',\n",
              "  'claims',\n",
              "  'expensive',\n",
              "  'retain',\n",
              "  'freedom',\n",
              "  'invest',\n",
              "  'goals',\n",
              "  'words',\n",
              "  'backed',\n",
              "  'actions',\n",
              "  'mean',\n",
              "  'know',\n",
              "  'backed',\n",
              "  'advanced',\n",
              "  'claims',\n",
              "  'servicing',\n",
              "  'capability',\n",
              "  'fast',\n",
              "  'settlement',\n",
              "  'record',\n",
              "  'secure',\n",
              "  'smiles',\n",
              "  'mile',\n",
              "  'peace',\n",
              "  'mind',\n",
              "  'protecting',\n",
              "  'vehicle',\n",
              "  'bajaj',\n",
              "  'allianz',\n",
              "  'motor',\n",
              "  'insurance',\n",
              "  'commitment',\n",
              "  'excellent',\n",
              "  'service',\n",
              "  'won',\n",
              "  'best',\n",
              "  'general',\n",
              "  'insurance',\n",
              "  'company',\n",
              "  'award',\n",
              "  'sixth',\n",
              "  'world',\n",
              "  'quality',\n",
              "  'congress',\n",
              "  'car',\n",
              "  'insurance',\n",
              "  'wheeler',\n",
              "  'long',\n",
              "  'term',\n",
              "  'insurance',\n",
              "  'bajaj',\n",
              "  'allianz',\n",
              "  'provides',\n",
              "  'unmatched',\n",
              "  'care',\n",
              "  'protection',\n",
              "  'motoring',\n",
              "  'experience']]"
            ]
          },
          "metadata": {
            "tags": []
          },
          "execution_count": 24
        }
      ]
    },
    {
      "cell_type": "code",
      "metadata": {
        "id": "UcYA4fV0hbz3",
        "colab_type": "code",
        "colab": {
          "base_uri": "https://localhost:8080/",
          "height": 322
        },
        "outputId": "58ffa219-4b8c-43b2-ec45-1ba6000206d1"
      },
      "source": [
        "from sklearn.decomposition import PCA\n",
        "import matplotlib.pyplot as plt\n",
        "model = Word2Vec(fin, min_count=1)\n",
        "\n",
        "X = model[model.wv.vocab]\n",
        "pca = PCA(n_components=2)\n",
        "result = pca.fit_transform(X)\n",
        "\n",
        "plt.scatter(result[:, 0], result[:, 1])\n",
        "words = list(model.wv.vocab)\n",
        "for i, word in enumerate(words):\n",
        "\tplt.annotate(word, xy=(result[i, 0], result[i, 1]))\n",
        "plt.show()"
      ],
      "execution_count": 25,
      "outputs": [
        {
          "output_type": "stream",
          "text": [
            "/usr/local/lib/python3.6/dist-packages/ipykernel_launcher.py:5: DeprecationWarning: Call to deprecated `__getitem__` (Method will be removed in 4.0.0, use self.wv.__getitem__() instead).\n",
            "  \"\"\"\n"
          ],
          "name": "stderr"
        },
        {
          "output_type": "display_data",
          "data": {
            "image/png": "[encoded data removed]",
            "text/plain": [
              "<Figure size 432x288 with 1 Axes>"
            ]
          },
          "metadata": {
            "tags": []
          }
        }
      ]
    },
    {
      "cell_type": "code",
      "metadata": {
        "id": "g8wkJRzQmUeG",
        "colab_type": "code",
        "colab": {}
      },
      "source": [
        "\"\"\"\n",
        "proposed solution:\n",
        "as the word to vector representation has been extracted we can use this as the knowledge base\n",
        "for a given querry one can map the cosine similarity amongst the vectors and map to corresponding\n",
        "labels accordingly\n",
        "\"\"\""
      ],
      "execution_count": 0,
      "outputs": []
    }
  ]
}